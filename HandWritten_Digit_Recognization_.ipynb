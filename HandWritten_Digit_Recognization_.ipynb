{
  "nbformat": 4,
  "nbformat_minor": 0,
  "metadata": {
    "colab": {
      "name": "HandWritten Digit Recognization .ipynb",
      "provenance": [],
      "collapsed_sections": [],
      "authorship_tag": "ABX9TyPUTIxNwOT03HDtGcWRnH12",
      "include_colab_link": true
    },
    "kernelspec": {
      "name": "python3",
      "display_name": "Python 3"
    },
    "language_info": {
      "name": "python"
    },
    "accelerator": "GPU"
  },
  "cells": [
    {
      "cell_type": "markdown",
      "metadata": {
        "id": "view-in-github",
        "colab_type": "text"
      },
      "source": [
        "<a href=\"https://colab.research.google.com/github/shubhamkambleX/Mnist-Classification/blob/main/HandWritten_Digit_Recognization_.ipynb\" target=\"_parent\"><img src=\"https://colab.research.google.com/assets/colab-badge.svg\" alt=\"Open In Colab\"/></a>"
      ]
    },
    {
      "cell_type": "markdown",
      "metadata": {
        "id": "LUGteF8kEsYZ"
      },
      "source": [
        "# Name :Shubham Suresh Kamble "
      ]
    },
    {
      "cell_type": "markdown",
      "metadata": {
        "id": "IWhTi-zQE1F0"
      },
      "source": [
        "Importing the Library"
      ]
    },
    {
      "cell_type": "code",
      "metadata": {
        "id": "Rb739l7t84wF"
      },
      "source": [
        "import numpy as np\n",
        "import pandas as pd\n",
        "import matplotlib.pyplot as plt\n",
        "import tensorflow as tf\n",
        "import tensorflow_datasets as tfds"
      ],
      "execution_count": null,
      "outputs": []
    },
    {
      "cell_type": "markdown",
      "metadata": {
        "id": "FjA3CAtm2LJW"
      },
      "source": [
        "Loading the dataset from tensorflow"
      ]
    },
    {
      "cell_type": "code",
      "metadata": {
        "id": "qj8cyTPL9YW7"
      },
      "source": [
        "(ds_train,ds_test), ds_info = tfds.load('mnist', \n",
        "                             split=['train','test'], \n",
        "                             shuffle_files=True,\n",
        "                             as_supervised=True,\n",
        "                             with_info=True\n",
        "                             )"
      ],
      "execution_count": null,
      "outputs": []
    },
    {
      "cell_type": "markdown",
      "metadata": {
        "id": "YNrue7ID2Sdt"
      },
      "source": [
        "Defining the function for normalizing the image from 0 to 1"
      ]
    },
    {
      "cell_type": "code",
      "metadata": {
        "id": "vpHlUWfN_tzl"
      },
      "source": [
        "def normalize_img(image,label):\n",
        "  return tf.cast(image, tf.float32)/255., label"
      ],
      "execution_count": null,
      "outputs": []
    },
    {
      "cell_type": "markdown",
      "metadata": {
        "id": "hYk45OR72ekl"
      },
      "source": [
        "Slipting Data into train and test"
      ]
    },
    {
      "cell_type": "code",
      "metadata": {
        "id": "Xaa7agMxF_zr"
      },
      "source": [
        "# train data\n",
        "ds_train = ds_train.map(normalize_img,num_parallel_calls=tf.data.experimental.AUTOTUNE)\n",
        "ds_train = ds_train.cache().shuffle(ds_info.splits['train'].num_examples).batch(128).prefetch(tf.data.experimental.AUTOTUNE)"
      ],
      "execution_count": null,
      "outputs": []
    },
    {
      "cell_type": "code",
      "metadata": {
        "id": "zhtTfCLDLFtm"
      },
      "source": [
        "# test data\n",
        "ds_test = ds_test.map(normalize_img,num_parallel_calls=tf.data.experimental.AUTOTUNE)\n",
        "ds_test = ds_test.batch(128).cache().prefetch(tf.data.experimental.AUTOTUNE)"
      ],
      "execution_count": null,
      "outputs": []
    },
    {
      "cell_type": "code",
      "metadata": {
        "colab": {
          "base_uri": "https://localhost:8080/"
        },
        "id": "nZN3785gM1c6",
        "outputId": "f7adda3e-7b7b-436a-b987-8dcf9347a416"
      },
      "source": [
        "ds_train"
      ],
      "execution_count": null,
      "outputs": [
        {
          "output_type": "execute_result",
          "data": {
            "text/plain": [
              "<PrefetchDataset shapes: ((None, 28, 28, 1), (None,)), types: (tf.float32, tf.int64)>"
            ]
          },
          "metadata": {
            "tags": []
          },
          "execution_count": 36
        }
      ]
    },
    {
      "cell_type": "code",
      "metadata": {
        "id": "36S0NLG3Qyvw"
      },
      "source": [
        "classes = [0,1,2,3,4,5,6,7,8,9]"
      ],
      "execution_count": null,
      "outputs": []
    },
    {
      "cell_type": "markdown",
      "metadata": {
        "id": "1LY6nshs2uAO"
      },
      "source": [
        "classes for labeling and figure of digit using matplotlib"
      ]
    },
    {
      "cell_type": "code",
      "metadata": {
        "colab": {
          "base_uri": "https://localhost:8080/",
          "height": 591
        },
        "id": "Gc6eKbCmNLTY",
        "outputId": "7adbba71-de93-48db-ebc1-59ebfd86a8be"
      },
      "source": [
        "plt.figure(figsize=(10,10))\n",
        "for images,labels in ds_train.take(1):\n",
        "  for i in range(9):\n",
        "    ax = plt.subplot(3, 3, i + 1)\n",
        "    image = np.squeeze(images[i])\n",
        "    plt.imshow(image)\n",
        "    plt.title(classes[labels[i]])\n",
        "    plt.axis('off')"
      ],
      "execution_count": null,
      "outputs": [
        {
          "output_type": "display_data",
          "data": {
            "image/png": "[encoded data removed]",
            "text/plain": [
              "<Figure size 720x720 with 9 Axes>"
            ]
          },
          "metadata": {
            "tags": [],
            "needs_background": "light"
          }
        }
      ]
    },
    {
      "cell_type": "markdown",
      "metadata": {
        "id": "LPwh5qS227pp"
      },
      "source": [
        "creating model"
      ]
    },
    {
      "cell_type": "code",
      "metadata": {
        "id": "4bG-t8fBQtXu"
      },
      "source": [
        "model = tf.keras.Sequential([\n",
        "tf.keras.layers.Flatten(input_shape=(28, 28)),\n",
        "tf.keras.layers.Dense(128,activation='relu'),\n",
        "tf.keras.layers.Dense(10,)\n",
        "])"
      ],
      "execution_count": null,
      "outputs": []
    },
    {
      "cell_type": "code",
      "metadata": {
        "colab": {
          "base_uri": "https://localhost:8080/"
        },
        "id": "6-BDiRfMUTrY",
        "outputId": "11dd2f4a-c0ce-4dfe-c4d4-694ab5c31d52"
      },
      "source": [
        "model.summary()"
      ],
      "execution_count": null,
      "outputs": [
        {
          "output_type": "stream",
          "text": [
            "Model: \"sequential_1\"\n",
            "_________________________________________________________________\n",
            "Layer (type)                 Output Shape              Param #   \n",
            "=================================================================\n",
            "flatten_1 (Flatten)          (None, 784)               0         \n",
            "_________________________________________________________________\n",
            "dense_2 (Dense)              (None, 128)               100480    \n",
            "_________________________________________________________________\n",
            "dense_3 (Dense)              (None, 10)                1290      \n",
            "=================================================================\n",
            "Total params: 101,770\n",
            "Trainable params: 101,770\n",
            "Non-trainable params: 0\n",
            "_________________________________________________________________\n"
          ],
          "name": "stdout"
        }
      ]
    },
    {
      "cell_type": "code",
      "metadata": {
        "id": "wMXpglxqUWid"
      },
      "source": [
        "model.compile(optimizer=tf.keras.optimizers.Adam(0.001),\n",
        "loss = tf.keras.losses.SparseCategoricalCrossentropy(from_logits=True),\n",
        "metrics = [tf.keras.metrics.SparseCategoricalAccuracy()])"
      ],
      "execution_count": null,
      "outputs": []
    },
    {
      "cell_type": "code",
      "metadata": {
        "colab": {
          "base_uri": "https://localhost:8080/"
        },
        "id": "5Hrhu1-FVldh",
        "outputId": "eb8885d1-7f58-48e7-9d7e-f37d251259aa"
      },
      "source": [
        "history = model.fit(ds_train,epochs=6,validation_data=ds_test)"
      ],
      "execution_count": null,
      "outputs": [
        {
          "output_type": "stream",
          "text": [
            "Epoch 1/6\n",
            "469/469 [==============================] - 2s 4ms/step - loss: 0.5978 - sparse_categorical_accuracy: 0.8371 - val_loss: 0.2056 - val_sparse_categorical_accuracy: 0.9407\n",
            "Epoch 2/6\n",
            "469/469 [==============================] - 1s 2ms/step - loss: 0.1772 - sparse_categorical_accuracy: 0.9507 - val_loss: 0.1400 - val_sparse_categorical_accuracy: 0.9605\n",
            "Epoch 3/6\n",
            "469/469 [==============================] - 1s 2ms/step - loss: 0.1268 - sparse_categorical_accuracy: 0.9642 - val_loss: 0.1134 - val_sparse_categorical_accuracy: 0.9661\n",
            "Epoch 4/6\n",
            "469/469 [==============================] - 1s 2ms/step - loss: 0.0952 - sparse_categorical_accuracy: 0.9731 - val_loss: 0.1002 - val_sparse_categorical_accuracy: 0.9698\n",
            "Epoch 5/6\n",
            "469/469 [==============================] - 1s 2ms/step - loss: 0.0769 - sparse_categorical_accuracy: 0.9781 - val_loss: 0.0932 - val_sparse_categorical_accuracy: 0.9718\n",
            "Epoch 6/6\n",
            "469/469 [==============================] - 1s 2ms/step - loss: 0.0641 - sparse_categorical_accuracy: 0.9813 - val_loss: 0.0861 - val_sparse_categorical_accuracy: 0.9735\n"
          ],
          "name": "stdout"
        }
      ]
    },
    {
      "cell_type": "markdown",
      "metadata": {
        "id": "cKfgVMdR3AZE"
      },
      "source": [
        "checking the loss error value by ploting it"
      ]
    },
    {
      "cell_type": "code",
      "metadata": {
        "id": "rU4wUCIPW149",
        "colab": {
          "base_uri": "https://localhost:8080/"
        },
        "outputId": "7423cef7-43f3-4abb-ec41-74ad814cd29e"
      },
      "source": [
        "for e in history.history:\n",
        "  print(e)"
      ],
      "execution_count": null,
      "outputs": [
        {
          "output_type": "stream",
          "text": [
            "loss\n",
            "sparse_categorical_accuracy\n",
            "val_loss\n",
            "val_sparse_categorical_accuracy\n"
          ],
          "name": "stdout"
        }
      ]
    },
    {
      "cell_type": "code",
      "metadata": {
        "colab": {
          "base_uri": "https://localhost:8080/",
          "height": 609
        },
        "id": "4qHyvfKlevEj",
        "outputId": "1f967e45-8b00-46dd-bbe8-7d30dd0f1046"
      },
      "source": [
        "plt.figure(figsize=(10,10))\n",
        "plt.plot(range(6),history.history['val_loss'])"
      ],
      "execution_count": null,
      "outputs": [
        {
          "output_type": "execute_result",
          "data": {
            "text/plain": [
              "[<matplotlib.lines.Line2D at 0x7efcfbc23250>]"
            ]
          },
          "metadata": {
            "tags": []
          },
          "execution_count": 44
        },
        {
          "output_type": "display_data",
          "data": {
            "image/png": "[encoded data removed]",
            "text/plain": [
              "<Figure size 720x720 with 1 Axes>"
            ]
          },
          "metadata": {
            "tags": [],
            "needs_background": "light"
          }
        }
      ]
    },
    {
      "cell_type": "code",
      "metadata": {
        "colab": {
          "base_uri": "https://localhost:8080/"
        },
        "id": "dMFR3CRyfIWT",
        "outputId": "bb7cac17-6bb2-4159-e732-f1ab613699bc"
      },
      "source": [
        "model.evaluate(ds_test)"
      ],
      "execution_count": null,
      "outputs": [
        {
          "output_type": "stream",
          "text": [
            "79/79 [==============================] - 0s 2ms/step - loss: 0.0861 - sparse_categorical_accuracy: 0.9735\n"
          ],
          "name": "stdout"
        },
        {
          "output_type": "execute_result",
          "data": {
            "text/plain": [
              "[0.08609045296907425, 0.9735000133514404]"
            ]
          },
          "metadata": {
            "tags": []
          },
          "execution_count": 45
        }
      ]
    },
    {
      "cell_type": "code",
      "metadata": {
        "id": "-0PnctS8peyF"
      },
      "source": [
        "pred = model.predict(ds_test)"
      ],
      "execution_count": null,
      "outputs": []
    },
    {
      "cell_type": "code",
      "metadata": {
        "colab": {
          "base_uri": "https://localhost:8080/"
        },
        "id": "CpZdj1qoqZXC",
        "outputId": "18da76a9-ce46-4bda-961a-c1f84a9de212"
      },
      "source": [
        "pred"
      ],
      "execution_count": null,
      "outputs": [
        {
          "output_type": "execute_result",
          "data": {
            "text/plain": [
              "array([[ -4.2192793 ,  -3.9361532 ,  11.688729  , ...,  -7.2287436 ,\n",
              "          0.167075  ,  -1.1550156 ],\n",
              "       [ 17.278887  ,  -8.927838  ,  -4.27385   , ...,  -7.345607  ,\n",
              "         -4.34468   ,  -6.145328  ],\n",
              "       [ -6.699775  ,  -6.5933723 ,  -5.4197574 , ...,   1.3541538 ,\n",
              "         -3.951433  ,   3.6976962 ],\n",
              "       ...,\n",
              "       [ -1.9938649 , -10.841571  ,   1.8118038 , ..., -11.903083  ,\n",
              "         10.208027  ,  -2.3158226 ],\n",
              "       [ 15.033079  ,  -8.260926  ,   2.999284  , ...,  -2.0012426 ,\n",
              "         -7.570255  ,  -1.7629253 ],\n",
              "       [ -2.491114  ,  -5.421208  ,  -6.5740194 , ...,  -8.702948  ,\n",
              "          0.30308536,  -1.9489864 ]], dtype=float32)"
            ]
          },
          "metadata": {
            "tags": []
          },
          "execution_count": 47
        }
      ]
    },
    {
      "cell_type": "markdown",
      "metadata": {
        "id": "cwsm3vYJ3Lqt"
      },
      "source": [
        "taking the highest max value from that particular array"
      ]
    },
    {
      "cell_type": "code",
      "metadata": {
        "id": "dQxCGZJOqaRZ"
      },
      "source": [
        "pred = list(map(lambda x: np.argmax(x),pred))"
      ],
      "execution_count": null,
      "outputs": []
    },
    {
      "cell_type": "code",
      "metadata": {
        "colab": {
          "base_uri": "https://localhost:8080/"
        },
        "id": "7cSnaHjLwV9e",
        "outputId": "99b72745-4608-42a3-96db-a499b7b64c59"
      },
      "source": [
        "pred"
      ],
      "execution_count": null,
      "outputs": [
        {
          "output_type": "execute_result",
          "data": {
            "text/plain": [
              "[2,\n",
              " 0,\n",
              " 4,\n",
              " 8,\n",
              " 7,\n",
              " 6,\n",
              " 0,\n",
              " 6,\n",
              " 3,\n",
              " 1,\n",
              " 8,\n",
              " 0,\n",
              " 7,\n",
              " 9,\n",
              " 8,\n",
              " 4,\n",
              " 5,\n",
              " 3,\n",
              " 4,\n",
              " 0,\n",
              " 6,\n",
              " 6,\n",
              " 3,\n",
              " 0,\n",
              " 2,\n",
              " 3,\n",
              " 6,\n",
              " 6,\n",
              " 7,\n",
              " 4,\n",
              " 0,\n",
              " 3,\n",
              " 8,\n",
              " 2,\n",
              " 5,\n",
              " 4,\n",
              " 2,\n",
              " 5,\n",
              " 5,\n",
              " 8,\n",
              " 5,\n",
              " 2,\n",
              " 9,\n",
              " 2,\n",
              " 4,\n",
              " 2,\n",
              " 7,\n",
              " 5,\n",
              " 0,\n",
              " 1,\n",
              " 0,\n",
              " 7,\n",
              " 9,\n",
              " 9,\n",
              " 9,\n",
              " 6,\n",
              " 8,\n",
              " 6,\n",
              " 9,\n",
              " 0,\n",
              " 5,\n",
              " 4,\n",
              " 2,\n",
              " 8,\n",
              " 5,\n",
              " 6,\n",
              " 8,\n",
              " 6,\n",
              " 1,\n",
              " 9,\n",
              " 0,\n",
              " 5,\n",
              " 5,\n",
              " 4,\n",
              " 1,\n",
              " 6,\n",
              " 7,\n",
              " 5,\n",
              " 2,\n",
              " 0,\n",
              " 9,\n",
              " 6,\n",
              " 4,\n",
              " 4,\n",
              " 2,\n",
              " 8,\n",
              " 3,\n",
              " 8,\n",
              " 7,\n",
              " 9,\n",
              " 0,\n",
              " 0,\n",
              " 1,\n",
              " 1,\n",
              " 4,\n",
              " 5,\n",
              " 9,\n",
              " 9,\n",
              " 6,\n",
              " 6,\n",
              " 0,\n",
              " 7,\n",
              " 1,\n",
              " 8,\n",
              " 4,\n",
              " 7,\n",
              " 8,\n",
              " 8,\n",
              " 1,\n",
              " 8,\n",
              " 0,\n",
              " 2,\n",
              " 9,\n",
              " 1,\n",
              " 0,\n",
              " 3,\n",
              " 9,\n",
              " 7,\n",
              " 0,\n",
              " 4,\n",
              " 9,\n",
              " 6,\n",
              " 8,\n",
              " 9,\n",
              " 3,\n",
              " 5,\n",
              " 4,\n",
              " 3,\n",
              " 2,\n",
              " 2,\n",
              " 4,\n",
              " 3,\n",
              " 0,\n",
              " 2,\n",
              " 3,\n",
              " 5,\n",
              " 1,\n",
              " 1,\n",
              " 2,\n",
              " 4,\n",
              " 8,\n",
              " 2,\n",
              " 2,\n",
              " 6,\n",
              " 8,\n",
              " 6,\n",
              " 1,\n",
              " 0,\n",
              " 7,\n",
              " 1,\n",
              " 6,\n",
              " 7,\n",
              " 2,\n",
              " 3,\n",
              " 4,\n",
              " 4,\n",
              " 6,\n",
              " 9,\n",
              " 0,\n",
              " 2,\n",
              " 8,\n",
              " 8,\n",
              " 6,\n",
              " 9,\n",
              " 0,\n",
              " 7,\n",
              " 8,\n",
              " 2,\n",
              " 9,\n",
              " 2,\n",
              " 0,\n",
              " 3,\n",
              " 2,\n",
              " 8,\n",
              " 7,\n",
              " 0,\n",
              " 1,\n",
              " 7,\n",
              " 8,\n",
              " 5,\n",
              " 1,\n",
              " 2,\n",
              " 3,\n",
              " 1,\n",
              " 9,\n",
              " 8,\n",
              " 7,\n",
              " 9,\n",
              " 0,\n",
              " 8,\n",
              " 3,\n",
              " 9,\n",
              " 3,\n",
              " 9,\n",
              " 7,\n",
              " 4,\n",
              " 9,\n",
              " 3,\n",
              " 1,\n",
              " 2,\n",
              " 2,\n",
              " 6,\n",
              " 0,\n",
              " 7,\n",
              " 6,\n",
              " 9,\n",
              " 5,\n",
              " 9,\n",
              " 7,\n",
              " 4,\n",
              " 2,\n",
              " 0,\n",
              " 1,\n",
              " 0,\n",
              " 4,\n",
              " 9,\n",
              " 9,\n",
              " 1,\n",
              " 9,\n",
              " 2,\n",
              " 2,\n",
              " 0,\n",
              " 5,\n",
              " 6,\n",
              " 0,\n",
              " 0,\n",
              " 0,\n",
              " 7,\n",
              " 7,\n",
              " 4,\n",
              " 7,\n",
              " 5,\n",
              " 1,\n",
              " 7,\n",
              " 7,\n",
              " 8,\n",
              " 2,\n",
              " 5,\n",
              " 9,\n",
              " 6,\n",
              " 6,\n",
              " 8,\n",
              " 0,\n",
              " 1,\n",
              " 2,\n",
              " 1,\n",
              " 7,\n",
              " 7,\n",
              " 7,\n",
              " 3,\n",
              " 0,\n",
              " 3,\n",
              " 4,\n",
              " 8,\n",
              " 3,\n",
              " 6,\n",
              " 3,\n",
              " 8,\n",
              " 2,\n",
              " 0,\n",
              " 7,\n",
              " 5,\n",
              " 7,\n",
              " 2,\n",
              " 0,\n",
              " 8,\n",
              " 5,\n",
              " 8,\n",
              " 6,\n",
              " 7,\n",
              " 1,\n",
              " 7,\n",
              " 1,\n",
              " 0,\n",
              " 1,\n",
              " 8,\n",
              " 6,\n",
              " 5,\n",
              " 1,\n",
              " 5,\n",
              " 3,\n",
              " 1,\n",
              " 9,\n",
              " 0,\n",
              " 8,\n",
              " 5,\n",
              " 7,\n",
              " 1,\n",
              " 0,\n",
              " 0,\n",
              " 6,\n",
              " 7,\n",
              " 4,\n",
              " 1,\n",
              " 7,\n",
              " 1,\n",
              " 2,\n",
              " 4,\n",
              " 4,\n",
              " 8,\n",
              " 9,\n",
              " 1,\n",
              " 0,\n",
              " 8,\n",
              " 5,\n",
              " 3,\n",
              " 5,\n",
              " 8,\n",
              " 9,\n",
              " 9,\n",
              " 1,\n",
              " 8,\n",
              " 0,\n",
              " 1,\n",
              " 3,\n",
              " 9,\n",
              " 7,\n",
              " 1,\n",
              " 8,\n",
              " 4,\n",
              " 7,\n",
              " 6,\n",
              " 6,\n",
              " 6,\n",
              " 2,\n",
              " 1,\n",
              " 2,\n",
              " 4,\n",
              " 9,\n",
              " 7,\n",
              " 7,\n",
              " 2,\n",
              " 5,\n",
              " 7,\n",
              " 2,\n",
              " 8,\n",
              " 9,\n",
              " 1,\n",
              " 7,\n",
              " 2,\n",
              " 4,\n",
              " 5,\n",
              " 0,\n",
              " 4,\n",
              " 0,\n",
              " 2,\n",
              " 7,\n",
              " 5,\n",
              " 3,\n",
              " 5,\n",
              " 8,\n",
              " 5,\n",
              " 8,\n",
              " 6,\n",
              " 6,\n",
              " 0,\n",
              " 8,\n",
              " 9,\n",
              " 2,\n",
              " 5,\n",
              " 2,\n",
              " 2,\n",
              " 6,\n",
              " 3,\n",
              " 2,\n",
              " 3,\n",
              " 1,\n",
              " 8,\n",
              " 1,\n",
              " 7,\n",
              " 6,\n",
              " 4,\n",
              " 7,\n",
              " 2,\n",
              " 2,\n",
              " 6,\n",
              " 3,\n",
              " 2,\n",
              " 7,\n",
              " 6,\n",
              " 6,\n",
              " 3,\n",
              " 7,\n",
              " 2,\n",
              " 6,\n",
              " 4,\n",
              " 9,\n",
              " 6,\n",
              " 8,\n",
              " 1,\n",
              " 6,\n",
              " 8,\n",
              " 4,\n",
              " 5,\n",
              " 7,\n",
              " 1,\n",
              " 1,\n",
              " 6,\n",
              " 8,\n",
              " 0,\n",
              " 6,\n",
              " 1,\n",
              " 4,\n",
              " 9,\n",
              " 7,\n",
              " 6,\n",
              " 7,\n",
              " 7,\n",
              " 6,\n",
              " 8,\n",
              " 9,\n",
              " 5,\n",
              " 4,\n",
              " 7,\n",
              " 0,\n",
              " 6,\n",
              " 3,\n",
              " 8,\n",
              " 0,\n",
              " 9,\n",
              " 0,\n",
              " 1,\n",
              " 1,\n",
              " 2,\n",
              " 7,\n",
              " 6,\n",
              " 7,\n",
              " 2,\n",
              " 6,\n",
              " 2,\n",
              " 6,\n",
              " 1,\n",
              " 3,\n",
              " 3,\n",
              " 3,\n",
              " 6,\n",
              " 6,\n",
              " 4,\n",
              " 1,\n",
              " 1,\n",
              " 3,\n",
              " 0,\n",
              " 7,\n",
              " 6,\n",
              " 0,\n",
              " 5,\n",
              " 0,\n",
              " 8,\n",
              " 8,\n",
              " 3,\n",
              " 1,\n",
              " 1,\n",
              " 9,\n",
              " 4,\n",
              " 6,\n",
              " 8,\n",
              " 3,\n",
              " 6,\n",
              " 6,\n",
              " 9,\n",
              " 3,\n",
              " 2,\n",
              " 6,\n",
              " 9,\n",
              " 6,\n",
              " 2,\n",
              " 2,\n",
              " 4,\n",
              " 0,\n",
              " 0,\n",
              " 1,\n",
              " 2,\n",
              " 5,\n",
              " 5,\n",
              " 1,\n",
              " 8,\n",
              " 7,\n",
              " 2,\n",
              " 1,\n",
              " 9,\n",
              " 7,\n",
              " 8,\n",
              " 5,\n",
              " 5,\n",
              " 7,\n",
              " 6,\n",
              " 0,\n",
              " 6,\n",
              " 4,\n",
              " 4,\n",
              " 2,\n",
              " 3,\n",
              " 9,\n",
              " 0,\n",
              " 6,\n",
              " 6,\n",
              " 6,\n",
              " 1,\n",
              " 9,\n",
              " 1,\n",
              " 2,\n",
              " 5,\n",
              " 4,\n",
              " 7,\n",
              " 9,\n",
              " 3,\n",
              " 7,\n",
              " 0,\n",
              " 7,\n",
              " 2,\n",
              " 7,\n",
              " 6,\n",
              " 1,\n",
              " 9,\n",
              " 4,\n",
              " 4,\n",
              " 2,\n",
              " 7,\n",
              " 3,\n",
              " 7,\n",
              " 0,\n",
              " 5,\n",
              " 0,\n",
              " 1,\n",
              " 4,\n",
              " 3,\n",
              " 6,\n",
              " 4,\n",
              " 4,\n",
              " 7,\n",
              " 0,\n",
              " 8,\n",
              " 6,\n",
              " 6,\n",
              " 4,\n",
              " 4,\n",
              " 9,\n",
              " 6,\n",
              " 0,\n",
              " 1,\n",
              " 0,\n",
              " 4,\n",
              " 0,\n",
              " 6,\n",
              " 4,\n",
              " 5,\n",
              " 8,\n",
              " 7,\n",
              " 8,\n",
              " 5,\n",
              " 6,\n",
              " 3,\n",
              " 2,\n",
              " 0,\n",
              " 0,\n",
              " 8,\n",
              " 8,\n",
              " 0,\n",
              " 1,\n",
              " 0,\n",
              " 2,\n",
              " 5,\n",
              " 9,\n",
              " 6,\n",
              " 9,\n",
              " 7,\n",
              " 7,\n",
              " 1,\n",
              " 8,\n",
              " 8,\n",
              " 7,\n",
              " 7,\n",
              " 7,\n",
              " 5,\n",
              " 8,\n",
              " 2,\n",
              " 6,\n",
              " 1,\n",
              " 9,\n",
              " 2,\n",
              " 2,\n",
              " 0,\n",
              " 6,\n",
              " 5,\n",
              " 5,\n",
              " 3,\n",
              " 7,\n",
              " 2,\n",
              " 6,\n",
              " 9,\n",
              " 2,\n",
              " 0,\n",
              " 4,\n",
              " 2,\n",
              " 1,\n",
              " 1,\n",
              " 6,\n",
              " 5,\n",
              " 2,\n",
              " 9,\n",
              " 2,\n",
              " 1,\n",
              " 6,\n",
              " 8,\n",
              " 7,\n",
              " 4,\n",
              " 1,\n",
              " 1,\n",
              " 7,\n",
              " 9,\n",
              " 4,\n",
              " 2,\n",
              " 2,\n",
              " 3,\n",
              " 0,\n",
              " 8,\n",
              " 1,\n",
              " 3,\n",
              " 2,\n",
              " 2,\n",
              " 2,\n",
              " 4,\n",
              " 5,\n",
              " 7,\n",
              " 5,\n",
              " 2,\n",
              " 2,\n",
              " 3,\n",
              " 8,\n",
              " 9,\n",
              " 5,\n",
              " 9,\n",
              " 8,\n",
              " 9,\n",
              " 9,\n",
              " 6,\n",
              " 1,\n",
              " 4,\n",
              " 8,\n",
              " 5,\n",
              " 8,\n",
              " 8,\n",
              " 0,\n",
              " 5,\n",
              " 8,\n",
              " 0,\n",
              " 6,\n",
              " 0,\n",
              " 2,\n",
              " 2,\n",
              " 8,\n",
              " 1,\n",
              " 5,\n",
              " 1,\n",
              " 9,\n",
              " 1,\n",
              " 9,\n",
              " 6,\n",
              " 3,\n",
              " 8,\n",
              " 1,\n",
              " 1,\n",
              " 5,\n",
              " 4,\n",
              " 3,\n",
              " 6,\n",
              " 4,\n",
              " 5,\n",
              " 5,\n",
              " 4,\n",
              " 0,\n",
              " 7,\n",
              " 0,\n",
              " 1,\n",
              " 8,\n",
              " 1,\n",
              " 9,\n",
              " 8,\n",
              " 5,\n",
              " 0,\n",
              " 0,\n",
              " 1,\n",
              " 2,\n",
              " 1,\n",
              " 6,\n",
              " 6,\n",
              " 4,\n",
              " 4,\n",
              " 9,\n",
              " 1,\n",
              " 6,\n",
              " 3,\n",
              " 6,\n",
              " 0,\n",
              " 4,\n",
              " 4,\n",
              " 7,\n",
              " 2,\n",
              " 9,\n",
              " 1,\n",
              " 5,\n",
              " 6,\n",
              " 4,\n",
              " 5,\n",
              " 2,\n",
              " 1,\n",
              " 1,\n",
              " 4,\n",
              " 0,\n",
              " 3,\n",
              " 9,\n",
              " 3,\n",
              " 1,\n",
              " 5,\n",
              " 9,\n",
              " 1,\n",
              " 5,\n",
              " 6,\n",
              " 9,\n",
              " 9,\n",
              " 8,\n",
              " 9,\n",
              " 2,\n",
              " 7,\n",
              " 3,\n",
              " 2,\n",
              " 9,\n",
              " 2,\n",
              " 0,\n",
              " 5,\n",
              " 4,\n",
              " 4,\n",
              " 1,\n",
              " 5,\n",
              " 1,\n",
              " 9,\n",
              " 5,\n",
              " 3,\n",
              " 3,\n",
              " 0,\n",
              " 3,\n",
              " 3,\n",
              " 3,\n",
              " 4,\n",
              " 3,\n",
              " 0,\n",
              " 3,\n",
              " 6,\n",
              " 5,\n",
              " 1,\n",
              " 0,\n",
              " 0,\n",
              " 0,\n",
              " 8,\n",
              " 9,\n",
              " 1,\n",
              " 1,\n",
              " 0,\n",
              " 5,\n",
              " 7,\n",
              " 2,\n",
              " 2,\n",
              " 9,\n",
              " 2,\n",
              " 0,\n",
              " 2,\n",
              " 9,\n",
              " 1,\n",
              " 8,\n",
              " 6,\n",
              " 8,\n",
              " 4,\n",
              " 4,\n",
              " 1,\n",
              " 3,\n",
              " 4,\n",
              " 7,\n",
              " 3,\n",
              " 0,\n",
              " 0,\n",
              " 1,\n",
              " 0,\n",
              " 7,\n",
              " 0,\n",
              " 7,\n",
              " 1,\n",
              " 8,\n",
              " 3,\n",
              " 1,\n",
              " 0,\n",
              " 2,\n",
              " 0,\n",
              " 5,\n",
              " 3,\n",
              " 7,\n",
              " 1,\n",
              " 1,\n",
              " 0,\n",
              " 8,\n",
              " 4,\n",
              " 7,\n",
              " 1,\n",
              " 5,\n",
              " 9,\n",
              " 6,\n",
              " 8,\n",
              " 2,\n",
              " 5,\n",
              " 9,\n",
              " 8,\n",
              " 3,\n",
              " 5,\n",
              " 3,\n",
              " 7,\n",
              " 4,\n",
              " 3,\n",
              " 7,\n",
              " 3,\n",
              " 2,\n",
              " 0,\n",
              " 0,\n",
              " 0,\n",
              " 8,\n",
              " 2,\n",
              " 6,\n",
              " 9,\n",
              " 0,\n",
              " 8,\n",
              " 7,\n",
              " 2,\n",
              " 6,\n",
              " 7,\n",
              " 2,\n",
              " 1,\n",
              " 1,\n",
              " 0,\n",
              " 6,\n",
              " 5,\n",
              " 6,\n",
              " 1,\n",
              " 8,\n",
              " 4,\n",
              " 0,\n",
              " 5,\n",
              " 3,\n",
              " 6,\n",
              " 0,\n",
              " 1,\n",
              " 1,\n",
              " 2,\n",
              " 3,\n",
              " 7,\n",
              " 3,\n",
              " 7,\n",
              " 1,\n",
              " 2,\n",
              " 2,\n",
              " 1,\n",
              " 5,\n",
              " 5,\n",
              " 4,\n",
              " 5,\n",
              " 2,\n",
              " 6,\n",
              " 4,\n",
              " 6,\n",
              " 0,\n",
              " 0,\n",
              " 4,\n",
              " 4,\n",
              " 0,\n",
              " 7,\n",
              " 9,\n",
              " 7,\n",
              " 9,\n",
              " 6,\n",
              " 7,\n",
              " 1,\n",
              " 2,\n",
              " 1,\n",
              " 8,\n",
              " 8,\n",
              " 1,\n",
              " 7,\n",
              " 6,\n",
              " 3,\n",
              " 2,\n",
              " 5,\n",
              " 5,\n",
              " 1,\n",
              " 0,\n",
              " 8,\n",
              " 1,\n",
              " 4,\n",
              " 4,\n",
              " 5,\n",
              " 1,\n",
              " 1,\n",
              " 7,\n",
              " 4,\n",
              " 7,\n",
              " 2,\n",
              " 0,\n",
              " 1,\n",
              " 7,\n",
              " 3,\n",
              " 3,\n",
              " 5,\n",
              " 7,\n",
              " 6,\n",
              " 4,\n",
              " 5,\n",
              " 4,\n",
              " 7,\n",
              " 2,\n",
              " 3,\n",
              " 5,\n",
              " 4,\n",
              " 1,\n",
              " 1,\n",
              " 8,\n",
              " 0,\n",
              " 5,\n",
              " 8,\n",
              " 3,\n",
              " 8,\n",
              " 9,\n",
              " 1,\n",
              " 7,\n",
              " 6,\n",
              " 7,\n",
              " 0,\n",
              " 5,\n",
              " 7,\n",
              " 0,\n",
              " 3,\n",
              " 9,\n",
              " 4,\n",
              " 5,\n",
              " 9,\n",
              " 1,\n",
              " 8,\n",
              " 0,\n",
              " 1,\n",
              " 1,\n",
              " 0,\n",
              " 3,\n",
              " 1,\n",
              " 8,\n",
              " 2,\n",
              " 9,\n",
              " 3,\n",
              " 6,\n",
              " 2,\n",
              " 9,\n",
              " 2,\n",
              " 5,\n",
              " 7,\n",
              " 2,\n",
              " 3,\n",
              " 8,\n",
              " 3,\n",
              " 3,\n",
              " 3,\n",
              " 3,\n",
              " 9,\n",
              " 3,\n",
              " 8,\n",
              " 6,\n",
              " 4,\n",
              " 7,\n",
              " 8,\n",
              " 7,\n",
              " 4,\n",
              " 7,\n",
              " 8,\n",
              " 3,\n",
              " 2,\n",
              " 5,\n",
              " 6,\n",
              " 1,\n",
              " 8,\n",
              " 2,\n",
              " 3,\n",
              " 2,\n",
              " 1,\n",
              " 3,\n",
              " 0,\n",
              " 7,\n",
              " 9,\n",
              " 1,\n",
              " 1,\n",
              " 0,\n",
              " 8,\n",
              " 3,\n",
              " 8,\n",
              " 1,\n",
              " 6,\n",
              " 7,\n",
              " 1,\n",
              " ...]"
            ]
          },
          "metadata": {
            "tags": []
          },
          "execution_count": 49
        }
      ]
    },
    {
      "cell_type": "markdown",
      "metadata": {
        "id": "oWncLYfb3T69"
      },
      "source": [
        "plotted the final prediction of digit using test data \n",
        "In this blue are correctly classified and red are misclassified"
      ]
    },
    {
      "cell_type": "code",
      "metadata": {
        "colab": {
          "base_uri": "https://localhost:8080/",
          "height": 1000
        },
        "id": "gJBiBoBywW4h",
        "outputId": "cf159a54-270b-4dd0-cfe1-70cf3b5ff36b"
      },
      "source": [
        "plt.figure(figsize=(20,20))\n",
        "for images,labels in ds_test.take(1):\n",
        "  for i in range(36):\n",
        "    ax = plt.subplot(6, 6, i + 1)\n",
        "    image = np.squeeze(images[i])\n",
        "    plt.imshow(image)\n",
        "    prediction = pred[i] == classes[labels[i]]\n",
        "    plt.title(pred[i],color=('blue' if prediction else 'red'))\n",
        "    plt.axis('off')"
      ],
      "execution_count": null,
      "outputs": [
        {
          "output_type": "display_data",
          "data": {
            "image/png": "[encoded data removed]",
            "text/plain": [
              "<Figure size 1440x1440 with 36 Axes>"
            ]
          },
          "metadata": {
            "tags": [],
            "needs_background": "light"
          }
        }
      ]
    },
    {
      "cell_type": "code",
      "metadata": {
        "id": "R6MNjIAxyugE"
      },
      "source": [
        ""
      ],
      "execution_count": null,
      "outputs": []
    }
  ]
}